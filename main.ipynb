{
 "cells": [
  {
   "cell_type": "code",
   "execution_count": 1,
   "id": "ae865ac4",
   "metadata": {},
   "outputs": [],
   "source": [
    "#import dependencies\n",
    "from typing import List, TypedDict\n",
    "from langgraph.graph import StateGraph\n",
    "from langchain_core.messages import BaseMessage"
   ]
  },
  {
   "cell_type": "code",
   "execution_count": 162,
   "id": "81a5a5cd",
   "metadata": {},
   "outputs": [],
   "source": [
    "#Create state schema\n",
    "class GraphState(TypedDict):\n",
    "    \"\"\"Represents the State schema for the graph.\"\"\"\n",
    "    \n",
    "    question: str\n",
    "    retrievedDocs: List[str]\n",
    "    initialResponse: str\n",
    "    finalResponse: str\n",
    "    selfCheckResult: str\n",
    "    sentiment: str\n",
    "    messages: List[BaseMessage]\n"
   ]
  },
  {
   "cell_type": "code",
   "execution_count": 3,
   "id": "9bae1ffb",
   "metadata": {},
   "outputs": [
    {
     "name": "stderr",
     "output_type": "stream",
     "text": [
      "USER_AGENT environment variable not set, consider setting it to identify your requests.\n"
     ]
    }
   ],
   "source": [
    "from langchain_community.document_loaders import WebBaseLoader\n",
    "from langchain.text_splitter import RecursiveCharacterTextSplitter\n",
    "from langchain_google_genai import GoogleGenerativeAIEmbeddings\n",
    "from langchain_community.vectorstores import Chroma\n",
    "import os\n",
    "from dotenv import load_dotenv\n",
    "\n",
    "load_dotenv()\n",
    "\n",
    "API_KEY = os.environ.get(\"GOOGLE_API_KEY\")\n",
    "if not API_KEY:\n",
    "    raise ValueError(\"GOOGLE_API_KEY environment variable is not set.\")"
   ]
  },
  {
   "cell_type": "code",
   "execution_count": 4,
   "id": "5c587558",
   "metadata": {},
   "outputs": [],
   "source": [
    "#Node dependencies\n",
    "from langchain_google_genai import ChatGoogleGenerativeAI\n",
    "from langchain.chains import create_history_aware_retriever\n",
    "from langchain_core.prompts import ChatPromptTemplate, MessagesPlaceholder\n",
    "import bs4"
   ]
  },
  {
   "cell_type": "code",
   "execution_count": 5,
   "id": "f54aeec8",
   "metadata": {},
   "outputs": [],
   "source": [
    "#Make vector store\n",
    "def make_vector_store():\n",
    "    \"\"\"Creates a vector store from the web loader.\"\"\"\n",
    "\n",
    "    urls = [\"https://en.wikipedia.org/wiki/Econet_Global\",\n",
    "            \"https://en.wikipedia.org/wiki/Econet_Zimbabwe\",\n",
    "            \"https://www.econet.co.zw/usd-data-bundles\",\n",
    "            \"https://www.econet.co.zw/zwg-data-bundles/\"\n",
    "            ]\n",
    "    loader = WebBaseLoader(urls)\n",
    "    documents = loader.load()\n",
    "    \n",
    "    textSplitter = RecursiveCharacterTextSplitter(chunk_size=1000, chunk_overlap=200)\n",
    "    splitDocs = textSplitter.split_documents(documents)\n",
    "    \n",
    "    embeddings = GoogleGenerativeAIEmbeddings(model=\"models/embedding-001\", google_api_key=API_KEY)\n",
    "    persist_directory = \"./chroma_db\"\n",
    "    vector_store = Chroma.from_documents(splitDocs, embeddings, persist_directory=persist_directory)\n",
    "    \n",
    "    return vector_store"
   ]
  },
  {
   "cell_type": "code",
   "execution_count": 6,
   "id": "dd930d8c",
   "metadata": {},
   "outputs": [],
   "source": [
    "library = make_vector_store()"
   ]
  },
  {
   "cell_type": "code",
   "execution_count": 182,
   "id": "346dc2d3",
   "metadata": {},
   "outputs": [],
   "source": [
    "#test vector store\n",
    "retriever = library.as_retriever()\n",
    "\n",
    "contextualizePrompt = ChatPromptTemplate.from_messages([\n",
    "    (\"system\", \"Given the conversation history and a user's question, generate a standalone question that can be used for RAG.\"),\n",
    "    MessagesPlaceholder(\"chat_history\"),\n",
    "    (\"user\", \"{input}\"),\n",
    "])\n",
    "\n",
    "historyAwareRetriever = create_history_aware_retriever(\n",
    "    llm=ChatGoogleGenerativeAI(model=\"gemini-2.5-pro\"),\n",
    "    retriever=retriever,\n",
    "    prompt=contextualizePrompt\n",
    ")\n"
   ]
  },
  {
   "cell_type": "code",
   "execution_count": 183,
   "id": "6ed4743e",
   "metadata": {},
   "outputs": [],
   "source": [
    "from langchain_core.messages import HumanMessage\n",
    "\n",
    "def initialize_state(state: GraphState):\n",
    "    print(\"---INITIALIZING STATE---\")\n",
    "    question = state[\"question\"]\n",
    "    \n",
    "    # Initialize messages list with the user's question as a HumanMessage\n",
    "    messages = [HumanMessage(content=question)]\n",
    "    return {\"messages\": messages}"
   ]
  },
  {
   "cell_type": "code",
   "execution_count": 184,
   "id": "f98c5194",
   "metadata": {},
   "outputs": [],
   "source": [
    "# #RAG Node\n",
    "# from langchain_core.documents import Document\n",
    "\n",
    "# def retrieveDocuments(state: GraphState) -> GraphState:\n",
    "#     \"\"\"Retrieves documents based on the user's question.\"\"\"\n",
    "    \n",
    "#     question = state[\"question\"]\n",
    "#     messages = state[\"messages\"]\n",
    "\n",
    "#     retrievedDocs = historyAwareRetriever.invoke({\"input\": question, \"chat_history\": messages})\n",
    "\n",
    "#     if isinstance(retrievedDocs, list) and all(isinstance(doc, Document) for doc in retrievedDocs):\n",
    "#         retrieved_docs = retrievedDocs\n",
    "#     else:\n",
    "#         retrieved_docs = []\n",
    "    \n",
    "#     return {\"retrieved_docs\": retrievedDocs}\n",
    "\n",
    "from langchain_core.documents import Document\n",
    "\n",
    "def retrieveDocuments(state: GraphState):\n",
    "    \"\"\"\n",
    "    Retrieves documents based on the user's question and handles errors.\n",
    "    Ensures 'retrieved_docs' is always in the returned state dictionary.\n",
    "    \"\"\"\n",
    "    print(\"---RETRIEVING DOCUMENTS---\")\n",
    "    question = state[\"question\"]\n",
    "    messages = state[\"messages\"] \n",
    "    retrieved_docs = [] # Initialize with a safe default value\n",
    "\n",
    "    try:\n",
    "        retrieved_docs_output = historyAwareRetriever.invoke({\"input\": question, \"chat_history\": messages})\n",
    "        \n",
    "        # Verify the output is in the expected format before assigning\n",
    "        if isinstance(retrieved_docs_output, list) and all(isinstance(doc, Document) for doc in retrieved_docs_output):\n",
    "            retrieved_docs = retrieved_docs_output\n",
    "        else:\n",
    "            print(f\"Warning: Retriever returned an unexpected type: {type(retrieved_docs_output)}\")\n",
    "            # The function will fall back to the empty list\n",
    "            \n",
    "    except Exception as e:\n",
    "        print(f\"Error during document retrieval: {e}\")\n",
    "        # The function will return the empty list initialized above\n",
    "\n",
    "    return {\"retrievedDocs\": retrieved_docs}"
   ]
  },
  {
   "cell_type": "code",
   "execution_count": 185,
   "id": "afed57c4",
   "metadata": {},
   "outputs": [],
   "source": [
    "from langchain_core.output_parsers import StrOutputParser"
   ]
  },
  {
   "cell_type": "code",
   "execution_count": 186,
   "id": "5a4c3a00",
   "metadata": {},
   "outputs": [],
   "source": [
    "#Setup chain\n",
    "llm = ChatGoogleGenerativeAI(model=\"gemini-2.5-pro\", google_api_key=API_KEY)\n",
    "\n",
    "ragPrompt = ChatPromptTemplate.from_messages([\n",
    "     (\"system\", \"You are a helpful chatbot for a company. Answer the user's question truthfully based only on the provided context. If you don't know the answer, politely state that you can't find the information. Context: {context}\"),\n",
    "    (\"user\", \"{question}\"),])\n",
    "\n",
    "ragChain = ragPrompt | llm | StrOutputParser()"
   ]
  },
  {
   "cell_type": "code",
   "execution_count": 187,
   "id": "10014b00",
   "metadata": {},
   "outputs": [],
   "source": [
    "#Initial response Node\n",
    "def initialResponse(state: GraphState) -> GraphState:\n",
    "    \"\"\"Generates an initial response based on the retrieved documents.\"\"\"\n",
    "    \n",
    "    retrievedDocs = state[\"retrievedDocs\"]\n",
    "    question = state[\"question\"]\n",
    "    \n",
    "    if not retrievedDocs:\n",
    "        return {\"initialResponse\": \"No relevant documents found.\"}\n",
    "    \n",
    "    context = \"\\n\\n\".join(doc.page_content for doc in retrievedDocs)\n",
    "    response = ragChain.invoke({\"context\": context, \"question\": question})\n",
    "    \n",
    "    return {\"initialResponse\": response}"
   ]
  },
  {
   "cell_type": "code",
   "execution_count": 200,
   "id": "966e344c",
   "metadata": {},
   "outputs": [],
   "source": [
    "#Self check prompt\n",
    "from langchain_core.prompts import PromptTemplate\n",
    "\n",
    "selfCheckPrompt = PromptTemplate(\n",
    "    template=\"\"\"\n",
    "    You are a quality assurance agent for a customer service chatbot. Your task is to review a generated response and determine if it is accurate and appropriate.\n",
    "    \n",
    "    User Question: {question}\n",
    "    Retrieved Context: {retrievedDocs}\n",
    "    Initial Response: {initialResponse}\n",
    "    \n",
    "    Critique the Initial Response. Consider the following:\n",
    "    1. Does the response directly and accurately answer the question?\n",
    "    2. Does it use ONLY the information from the provided context?\n",
    "    3. Is the tone helpful and appropriate?\n",
    "    4. Does it contain any hallucinations or irrelevant information?\n",
    "    \n",
    "    Based on your critique, classify the response. Respond with either 'Correct' if it is good to go, or 'Incorrect' if it needs a rewrite.\n",
    "    \"\"\",\n",
    "    input_variables=[\"question\", \"retrievedDocs\", \"initialResponse\"]\n",
    ")"
   ]
  },
  {
   "cell_type": "code",
   "execution_count": 201,
   "id": "2f716f09",
   "metadata": {},
   "outputs": [],
   "source": [
    "selfCheckChain = selfCheckPrompt | llm | StrOutputParser()"
   ]
  },
  {
   "cell_type": "code",
   "execution_count": 202,
   "id": "6b8f0b86",
   "metadata": {},
   "outputs": [],
   "source": [
    "#Self check Node\n",
    "def selfCheck(state: GraphState) -> GraphState:\n",
    "    \"\"\"Performs a self-check on the initial response.\"\"\"\n",
    "    \n",
    "    question = state[\"question\"]\n",
    "    retrievedDocs = state[\"retrievedDocs\"]\n",
    "    initial_response = state[\"initialResponse\"]\n",
    "    \n",
    "    if not retrievedDocs:\n",
    "        return {\"selfCheckResult\": \"No relevant documents found.\"}\n",
    "    \n",
    "    context = \"\\n\\n\".join(doc.page_content for doc in retrievedDocs)\n",
    "    \n",
    "    result = selfCheckChain.invoke({\n",
    "        \"question\": question,\n",
    "        \"retrievedDocs\": context,\n",
    "        \"initialResponse\": initial_response\n",
    "    })\n",
    "    \n",
    "    return {\"selfCheckResult\": result}"
   ]
  },
  {
   "cell_type": "code",
   "execution_count": 203,
   "id": "d0ee3668",
   "metadata": {},
   "outputs": [],
   "source": [
    "#Sentiment analysis Node\n",
    "def sentimentAnalysis(state: GraphState) -> GraphState:\n",
    "    \"\"\"Analyzes the sentiment of the user input.\"\"\"\n",
    "\n",
    "    question = state[\"question\"]\n",
    "    \n",
    "    sentimentPrompt = PromptTemplate(\n",
    "        template=\"Analyze the sentiment of the following user query and classify it as 'positive', 'negative', or 'neutral'.\\nQuery: {question}\",\n",
    "        input_variables=[\"question\"]\n",
    "    )\n",
    "\n",
    "    sentimentChain = sentimentPrompt | llm | StrOutputParser()\n",
    "    sentiment = sentimentChain.invoke({\"question\": question})\n",
    "    \n",
    "    return {\"sentiment\": sentiment.strip().lower()} "
   ]
  },
  {
   "cell_type": "code",
   "execution_count": 204,
   "id": "c40aea6c",
   "metadata": {},
   "outputs": [],
   "source": [
    "#Rewrite response prompt\n",
    "rewritePrompt = PromptTemplate(\n",
    "    template=\"\"\"\n",
    "    The previous response was deemed 'Incorrect' for the following reasons: {self_check_result}.\n",
    "    \n",
    "    User Question: {question}\n",
    "    Retrieved Context: {retrieved_docs}\n",
    "    \n",
    "    Rewrite a new, accurate, and helpful response based on the feedback and the provided context.\n",
    "    \"\"\",\n",
    "    input_variables=[\"question\", \"retrieved_docs\", \"self_check_result\"]\n",
    ")"
   ]
  },
  {
   "cell_type": "code",
   "execution_count": 205,
   "id": "836c8694",
   "metadata": {},
   "outputs": [],
   "source": [
    "rewriteChain = rewritePrompt | llm | StrOutputParser()"
   ]
  },
  {
   "cell_type": "code",
   "execution_count": 206,
   "id": "a8177482",
   "metadata": {},
   "outputs": [],
   "source": [
    "#Rewritten response Node\n",
    "def rewrittenResponseNode(state: GraphState) -> GraphState:\n",
    "    \"\"\"Generates a rewritten response based on the self-check result.\"\"\"\n",
    "    \n",
    "    question = state[\"question\"]\n",
    "    retrievedDocs = state[\"retrievedDocs\"]\n",
    "    selfCheckResult = state[\"selfCheckResult\"]\n",
    "    \n",
    "    if not retrievedDocs:\n",
    "        return {\"final_response\": \"No relevant documents found.\"}\n",
    "    \n",
    "    context = \"\\n\\n\".join(doc.page_content for doc in retrievedDocs)\n",
    "    \n",
    "    rewrittenResponse = rewriteChain.invoke({\n",
    "        \"question\": question,\n",
    "        \"retrievedDocs\": context,\n",
    "        \"selfCheckResult\": selfCheckResult\n",
    "    })\n",
    "    \n",
    "    return {\"final_response\": rewrittenResponse}"
   ]
  },
  {
   "cell_type": "code",
   "execution_count": 207,
   "id": "47f9b386",
   "metadata": {},
   "outputs": [],
   "source": [
    "from langgraph.graph import StateGraph, END"
   ]
  },
  {
   "cell_type": "code",
   "execution_count": 208,
   "id": "2ab014a6",
   "metadata": {},
   "outputs": [],
   "source": [
    "workflow = StateGraph(GraphState)\n",
    "\n",
    "# Add nodes to the graph\n",
    "workflow.add_node(\"initialize_state\", initialize_state)\n",
    "workflow.add_node(\"analyze_sentiment\", sentimentAnalysis)\n",
    "workflow.add_node(\"retrieve_docs\", retrieveDocuments)\n",
    "workflow.add_node(\"generate_response\", initialResponse)\n",
    "workflow.add_node(\"self_check_response\", selfCheck)\n",
    "workflow.add_node(\"rewrite_response\", rewrittenResponseNode)\n",
    "\n",
    "# Define the conditional logic\n",
    "def route_check_result(state: GraphState):\n",
    "    print(f\"---ROUTING BASED ON CHECK RESULT: {state['selfCheckResult']}---\")\n",
    "    if state[\"selfCheckResult\"] == \"Correct\":\n",
    "        return \"end_with_initial\"\n",
    "    else:\n",
    "        return \"rewrite\"\n",
    "\n",
    "# Define the edges\n",
    "workflow.set_entry_point(\"initialize_state\")\n",
    "workflow.add_edge(\"initialize_state\", \"analyze_sentiment\")\n",
    "workflow.add_edge(\"analyze_sentiment\", \"retrieve_docs\")\n",
    "workflow.add_edge(\"retrieve_docs\", \"generate_response\")\n",
    "workflow.add_edge(\"generate_response\", \"self_check_response\")\n",
    "\n",
    "# Add the conditional edge\n",
    "workflow.add_conditional_edges(\n",
    "    \"self_check_response\",\n",
    "    route_check_result,\n",
    "    {\n",
    "        \"end_with_initial\": END,  # If correct, end the graph\n",
    "        \"rewrite\": \"rewrite_response\" # If incorrect, go to the rewrite node\n",
    "    }\n",
    ")\n",
    "workflow.add_edge(\"rewrite_response\", END) # End after rewriting\n",
    "\n",
    "# Compile the graph\n",
    "app = workflow.compile()"
   ]
  },
  {
   "cell_type": "code",
   "execution_count": 209,
   "id": "16d793bb",
   "metadata": {},
   "outputs": [
    {
     "data": {
      "image/png": "[encoded data removed]",
      "text/plain": [
       "<IPython.core.display.Image object>"
      ]
     },
     "metadata": {},
     "output_type": "display_data"
    }
   ],
   "source": [
    "from IPython.display import display, Image\n",
    "display(Image(app.get_graph().draw_mermaid_png()))"
   ]
  },
  {
   "cell_type": "code",
   "execution_count": 210,
   "id": "1cf35081",
   "metadata": {},
   "outputs": [],
   "source": [
    "question = \"What are the company's core values?\"\n",
    "inputs = {\"question\": question, \"messages\": [HumanMessage(content=question)]}"
   ]
  },
  {
   "cell_type": "code",
   "execution_count": 211,
   "id": "41a61fe8",
   "metadata": {},
   "outputs": [
    {
     "name": "stdout",
     "output_type": "stream",
     "text": [
      "---INITIALIZING STATE---\n",
      "{'initialize_state': {'messages': [HumanMessage(content=\"What are the company's core values?\", additional_kwargs={}, response_metadata={})]}}\n",
      "{'analyze_sentiment': {'sentiment': '**neutral**'}}\n",
      "---RETRIEVING DOCUMENTS---\n",
      "{'retrieve_docs': {'retrievedDocs': [Document(metadata={'language': 'en-US', 'source': 'https://www.econet.co.zw/usd-data-bundles', 'description': ' ', 'title': 'USD Data Bundles - Econet Wireless Zimbabwe'}, page_content='Personal – Internally, we will always remember that we are a company made up of individuals. These people are the company. Each one is an intrinsically valuable member of the organisation, irrespective of their gender, race or position. We will always show concern for each other in an atmosphere that is open and stimulates personal development and job satisfaction and a sense of responsibility. We believe in working in teams, in effective and confident co-operation, in environments where honest praise, constructive criticisms and fair reward have their place.'), Document(metadata={'title': 'ZWG Data Bundles - Econet Wireless Zimbabwe', 'language': 'en-US', 'description': ' ', 'source': 'https://www.econet.co.zw/zwg-data-bundles/'}, page_content='Personal – Internally, we will always remember that we are a company made up of individuals. These people are the company. Each one is an intrinsically valuable member of the organisation, irrespective of their gender, race or position. We will always show concern for each other in an atmosphere that is open and stimulates personal development and job satisfaction and a sense of responsibility. We believe in working in teams, in effective and confident co-operation, in environments where honest praise, constructive criticisms and fair reward have their place.'), Document(metadata={'description': ' ', 'title': 'USD Data Bundles - Econet Wireless Zimbabwe', 'language': 'en-US', 'source': 'https://www.econet.co.zw/usd-data-bundles'}, page_content='\"The board is responsible for the stewardship and long-term success of the Group.\"\\n                    \\n\\n\\n\\n\\n\\n\\n\\n\\n\\n\\n\\n\\t\\t\\t×\\t\\t\\t\\n\\n\\n\\n\\n\\n\\n\\n\\n\\n\\n\\n\\n\\n\\n\\n\\n\\nElizabeth Tanya Masiyiwa\\n\\n            \\n\\n\\n\\n\\n\\n\\n\\n\\n🔗\\nLinkedIn Profile\\n\\n\\n\\n\\n\\nAbout Elizabeth Tanya Masiyiwa'), Document(metadata={'description': ' ', 'language': 'en-US', 'source': 'https://www.econet.co.zw/zwg-data-bundles/', 'title': 'ZWG Data Bundles - Econet Wireless Zimbabwe'}, page_content='\"The board is responsible for the stewardship and long-term success of the Group.\"\\n                    \\n\\n\\n\\n\\n\\n\\n\\n\\n\\n\\n\\n\\t\\t\\t×\\t\\t\\t\\n\\n\\n\\n\\n\\n\\n\\n\\n\\n\\n\\n\\n\\n\\n\\n\\n\\nElizabeth Tanya Masiyiwa\\n\\n            \\n\\n\\n\\n\\n\\n\\n\\n\\n🔗\\nLinkedIn Profile\\n\\n\\n\\n\\n\\nAbout Elizabeth Tanya Masiyiwa')]}}\n",
      "{'generate_response': {'initialResponse': 'Based on the information provided, the company\\'s core value is \"Personal.\" This value includes the following principles:\\n\\n*   Recognizing that the company is made up of individuals who are intrinsically valuable, irrespective of their gender, race, or position.\\n*   Showing concern for each other in an open atmosphere that stimulates personal development, job satisfaction, and a sense of responsibility.\\n*   Believing in teamwork, effective cooperation, honest praise, constructive criticism, and fair rewards.'}}\n",
      "---ROUTING BASED ON CHECK RESULT: Correct---\n",
      "{'self_check_response': {'selfCheckResult': 'Correct'}}\n"
     ]
    }
   ],
   "source": [
    "# This will run the full graph, including the self-correction loop if needed\n",
    "for s in app.stream(inputs):\n",
    "    print(s)"
   ]
  },
  {
   "cell_type": "code",
   "execution_count": 212,
   "id": "d28bf9a0",
   "metadata": {},
   "outputs": [
    {
     "name": "stdout",
     "output_type": "stream",
     "text": [
      "---INITIALIZING STATE---\n",
      "---RETRIEVING DOCUMENTS---\n",
      "---ROUTING BASED ON CHECK RESULT: Correct---\n"
     ]
    }
   ],
   "source": [
    "# Get the final state to see the result\n",
    "final_state = app.invoke(inputs)"
   ]
  },
  {
   "cell_type": "code",
   "execution_count": 213,
   "id": "f0df73c9",
   "metadata": {},
   "outputs": [],
   "source": [
    "# The final response is either the initial or the rewritten one\n",
    "# based on the conditional logic\n",
    "final_response = final_state.get(\"initial_response\")\n",
    "if final_state.get(\"self_check_result\") == \"Incorrect\":\n",
    "    final_response = final_state.get(\"final_response\")\n"
   ]
  },
  {
   "cell_type": "code",
   "execution_count": 215,
   "id": "519fb1d7",
   "metadata": {},
   "outputs": [
    {
     "name": "stdout",
     "output_type": "stream",
     "text": [
      "\n",
      "---FINAL RESPONSE SENT TO USER---\n",
      "Sentiment: **neutral**\n",
      "Self-Check Result: Correct\n",
      "Response: None\n"
     ]
    }
   ],
   "source": [
    "    \n",
    "print(\"\\n---FINAL RESPONSE SENT TO USER---\")\n",
    "print(f\"Sentiment: {final_state['sentiment']}\")\n",
    "print(f\"Self-Check Result: {final_state['selfCheckResult']}\")\n",
    "print(f\"Response: {final_response}\")"
   ]
  },
  {
   "cell_type": "code",
   "execution_count": null,
   "id": "2f2c6409",
   "metadata": {},
   "outputs": [],
   "source": []
  }
 ],
 "metadata": {
  "kernelspec": {
   "display_name": "venv (3.13.6)",
   "language": "python",
   "name": "python3"
  },
  "language_info": {
   "codemirror_mode": {
    "name": "ipython",
    "version": 3
   },
   "file_extension": ".py",
   "mimetype": "text/x-python",
   "name": "python",
   "nbconvert_exporter": "python",
   "pygments_lexer": "ipython3",
   "version": "3.13.6"
  }
 },
 "nbformat": 4,
 "nbformat_minor": 5
}
